{
 "cells": [
  {
   "cell_type": "code",
   "execution_count": 1,
   "id": "c456287e",
   "metadata": {},
   "outputs": [],
   "source": [
    "import numpy as np\n",
    "import pandas as pd"
   ]
  },
  {
   "cell_type": "code",
   "execution_count": 3,
   "id": "d3f5c8df",
   "metadata": {},
   "outputs": [],
   "source": [
    "label = [\"satu\", \"dua\", \"tiga\"]"
   ]
  },
  {
   "cell_type": "code",
   "execution_count": 4,
   "id": "529b4c62",
   "metadata": {},
   "outputs": [],
   "source": [
    "angka = [10, 20, 30]"
   ]
  },
  {
   "cell_type": "code",
   "execution_count": 5,
   "id": "45647eae",
   "metadata": {},
   "outputs": [
    {
     "data": {
      "text/plain": [
       "array([10, 20, 30])"
      ]
     },
     "execution_count": 5,
     "metadata": {},
     "output_type": "execute_result"
    }
   ],
   "source": [
    "np_angka = np.array(angka)\n",
    "np_angka"
   ]
  },
  {
   "cell_type": "code",
   "execution_count": 6,
   "id": "10e96f94",
   "metadata": {},
   "outputs": [],
   "source": [
    "dictA = {\n",
    "    \"satu\" : 10,\n",
    "    \"dua\" : 20,\n",
    "    \"tiga\" : 30\n",
    "}"
   ]
  },
  {
   "cell_type": "code",
   "execution_count": 10,
   "id": "0d2ad233",
   "metadata": {},
   "outputs": [],
   "source": [
    "dataBaru = pd.Series(data=angka, index=label)"
   ]
  },
  {
   "cell_type": "code",
   "execution_count": 16,
   "id": "552cf1cc",
   "metadata": {},
   "outputs": [
    {
     "data": {
      "text/plain": [
       "satu    10\n",
       "dua     20\n",
       "tiga    30\n",
       "dtype: int64"
      ]
     },
     "execution_count": 16,
     "metadata": {},
     "output_type": "execute_result"
    }
   ],
   "source": [
    "dataBaru"
   ]
  },
  {
   "cell_type": "code",
   "execution_count": 13,
   "id": "6c7dab64",
   "metadata": {},
   "outputs": [
    {
     "data": {
      "text/plain": [
       "10"
      ]
     },
     "execution_count": 13,
     "metadata": {},
     "output_type": "execute_result"
    }
   ],
   "source": [
    "dataBaru['satu']"
   ]
  },
  {
   "cell_type": "code",
   "execution_count": 14,
   "id": "9705c186",
   "metadata": {},
   "outputs": [
    {
     "data": {
      "text/plain": [
       "10"
      ]
     },
     "execution_count": 14,
     "metadata": {},
     "output_type": "execute_result"
    }
   ],
   "source": [
    "np_angka[0]"
   ]
  },
  {
   "cell_type": "code",
   "execution_count": 15,
   "id": "2208533b",
   "metadata": {},
   "outputs": [
    {
     "data": {
      "text/plain": [
       "satu    10\n",
       "dua     20\n",
       "tiga    30\n",
       "dtype: int64"
      ]
     },
     "execution_count": 15,
     "metadata": {},
     "output_type": "execute_result"
    }
   ],
   "source": [
    "pd.Series(dictA)"
   ]
  },
  {
   "cell_type": "code",
   "execution_count": 18,
   "id": "2b0ddbcd",
   "metadata": {},
   "outputs": [
    {
     "data": {
      "text/plain": [
       "0    10\n",
       "1    20\n",
       "2    30\n",
       "dtype: int64"
      ]
     },
     "execution_count": 18,
     "metadata": {},
     "output_type": "execute_result"
    }
   ],
   "source": [
    "pd.Series(angka)"
   ]
  },
  {
   "cell_type": "code",
   "execution_count": 20,
   "id": "616f451e",
   "metadata": {},
   "outputs": [],
   "source": [
    "dataBaru = dataBaru.to_frame()"
   ]
  },
  {
   "cell_type": "code",
   "execution_count": 21,
   "id": "7faaa0f0",
   "metadata": {},
   "outputs": [
    {
     "data": {
      "text/html": [
       "<div>\n",
       "<style scoped>\n",
       "    .dataframe tbody tr th:only-of-type {\n",
       "        vertical-align: middle;\n",
       "    }\n",
       "\n",
       "    .dataframe tbody tr th {\n",
       "        vertical-align: top;\n",
       "    }\n",
       "\n",
       "    .dataframe thead th {\n",
       "        text-align: right;\n",
       "    }\n",
       "</style>\n",
       "<table border=\"1\" class=\"dataframe\">\n",
       "  <thead>\n",
       "    <tr style=\"text-align: right;\">\n",
       "      <th></th>\n",
       "      <th>0</th>\n",
       "    </tr>\n",
       "  </thead>\n",
       "  <tbody>\n",
       "    <tr>\n",
       "      <th>satu</th>\n",
       "      <td>10</td>\n",
       "    </tr>\n",
       "    <tr>\n",
       "      <th>dua</th>\n",
       "      <td>20</td>\n",
       "    </tr>\n",
       "    <tr>\n",
       "      <th>tiga</th>\n",
       "      <td>30</td>\n",
       "    </tr>\n",
       "  </tbody>\n",
       "</table>\n",
       "</div>"
      ],
      "text/plain": [
       "       0\n",
       "satu  10\n",
       "dua   20\n",
       "tiga  30"
      ]
     },
     "execution_count": 21,
     "metadata": {},
     "output_type": "execute_result"
    }
   ],
   "source": [
    "dataBaru"
   ]
  },
  {
   "cell_type": "code",
   "execution_count": 22,
   "id": "6736562b",
   "metadata": {},
   "outputs": [],
   "source": [
    "dictB = {\n",
    "    'satu' : 10,\n",
    "    'dua' : 20,\n",
    "    'tiga' : 30,\n",
    "    'empat' : 40,\n",
    "    'lima' : 50\n",
    "}"
   ]
  },
  {
   "cell_type": "code",
   "execution_count": 23,
   "id": "a3154fa3",
   "metadata": {},
   "outputs": [],
   "source": [
    "dataBaru = pd.Series(dictA)"
   ]
  },
  {
   "cell_type": "code",
   "execution_count": 24,
   "id": "84234ba9",
   "metadata": {},
   "outputs": [
    {
     "data": {
      "text/plain": [
       "satu    10\n",
       "dua     20\n",
       "tiga    30\n",
       "dtype: int64"
      ]
     },
     "execution_count": 24,
     "metadata": {},
     "output_type": "execute_result"
    }
   ],
   "source": [
    "dataBaru"
   ]
  },
  {
   "cell_type": "code",
   "execution_count": 26,
   "id": "fe4b9f26",
   "metadata": {},
   "outputs": [],
   "source": [
    "dataBaru2 = pd.Series(dictB)"
   ]
  },
  {
   "cell_type": "code",
   "execution_count": 27,
   "id": "59913a7e",
   "metadata": {},
   "outputs": [
    {
     "data": {
      "text/plain": [
       "satu     10\n",
       "dua      20\n",
       "tiga     30\n",
       "empat    40\n",
       "lima     50\n",
       "dtype: int64"
      ]
     },
     "execution_count": 27,
     "metadata": {},
     "output_type": "execute_result"
    }
   ],
   "source": [
    "dataBaru2"
   ]
  },
  {
   "cell_type": "code",
   "execution_count": 28,
   "id": "cba8f869",
   "metadata": {},
   "outputs": [
    {
     "data": {
      "text/plain": [
       "dua      40.0\n",
       "empat     NaN\n",
       "lima      NaN\n",
       "satu     20.0\n",
       "tiga     60.0\n",
       "dtype: float64"
      ]
     },
     "execution_count": 28,
     "metadata": {},
     "output_type": "execute_result"
    }
   ],
   "source": [
    "dataBaru + dataBaru2"
   ]
  },
  {
   "cell_type": "code",
   "execution_count": null,
   "id": "44a9db6e",
   "metadata": {},
   "outputs": [],
   "source": []
  }
 ],
 "metadata": {
  "kernelspec": {
   "display_name": "Python 3 (ipykernel)",
   "language": "python",
   "name": "python3"
  },
  "language_info": {
   "codemirror_mode": {
    "name": "ipython",
    "version": 3
   },
   "file_extension": ".py",
   "mimetype": "text/x-python",
   "name": "python",
   "nbconvert_exporter": "python",
   "pygments_lexer": "ipython3",
   "version": "3.9.2"
  }
 },
 "nbformat": 4,
 "nbformat_minor": 5
}
