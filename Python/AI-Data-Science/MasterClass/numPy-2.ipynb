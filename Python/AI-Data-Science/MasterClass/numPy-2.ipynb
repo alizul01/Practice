{
 "cells": [
  {
   "cell_type": "code",
   "execution_count": 1,
   "id": "cf47dea1",
   "metadata": {},
   "outputs": [],
   "source": [
    "import numpy as np"
   ]
  },
  {
   "cell_type": "code",
   "execution_count": 2,
   "id": "1908d58a",
   "metadata": {},
   "outputs": [
    {
     "data": {
      "text/plain": [
       "array([0.08793099, 0.71143513, 0.77431747, 0.01591664, 0.168952  ,\n",
       "       0.58879261, 0.76215572, 0.74674286, 0.02928774, 0.1636607 ])"
      ]
     },
     "execution_count": 2,
     "metadata": {},
     "output_type": "execute_result"
    }
   ],
   "source": [
    "# Bilangan Distribusi Uniform (0 - 1)\n",
    "\n",
    "np.random.rand(10)"
   ]
  },
  {
   "cell_type": "code",
   "execution_count": 3,
   "id": "4a5f4cfa",
   "metadata": {},
   "outputs": [
    {
     "data": {
      "text/plain": [
       "array([[0.65158975, 0.54117874, 0.9893744 , 0.27588051],\n",
       "       [0.43594197, 0.2255785 , 0.64053886, 0.24923081],\n",
       "       [0.79302874, 0.48140343, 0.09578168, 0.35571476],\n",
       "       [0.84752755, 0.90029974, 0.2720843 , 0.21660594],\n",
       "       [0.22887133, 0.30728187, 0.00594148, 0.45981938]])"
      ]
     },
     "execution_count": 3,
     "metadata": {},
     "output_type": "execute_result"
    }
   ],
   "source": [
    "# Bilangan Distribusi Uniform (0 - 1) Matrix 2D\n",
    "\n",
    "np.random.rand(5, 4)"
   ]
  },
  {
   "cell_type": "code",
   "execution_count": 4,
   "id": "99076bdc",
   "metadata": {},
   "outputs": [
    {
     "data": {
      "text/plain": [
       "array([[-0.04103562,  0.40389317],\n",
       "       [-0.91380903,  1.08961575]])"
      ]
     },
     "execution_count": 4,
     "metadata": {},
     "output_type": "execute_result"
    }
   ],
   "source": [
    "# Distribusi Normal (Gaussian)\n",
    "\n",
    "np.random.randn(2, 2)"
   ]
  },
  {
   "cell_type": "code",
   "execution_count": 5,
   "id": "9edf04a0",
   "metadata": {},
   "outputs": [],
   "source": [
    "from numpy.random import randn, randint"
   ]
  },
  {
   "cell_type": "code",
   "execution_count": 6,
   "id": "fea9054c",
   "metadata": {},
   "outputs": [
    {
     "data": {
      "text/plain": [
       "array([[-0.56199771, -1.6114264 , -0.32944036, -1.36647088],\n",
       "       [-0.37409998, -0.67307113, -0.66539686,  0.41551505]])"
      ]
     },
     "execution_count": 6,
     "metadata": {},
     "output_type": "execute_result"
    }
   ],
   "source": [
    "randn(2, 4)"
   ]
  },
  {
   "cell_type": "code",
   "execution_count": 7,
   "id": "db294c34",
   "metadata": {},
   "outputs": [
    {
     "data": {
      "text/plain": [
       "array([9, 9, 3, 4, 2])"
      ]
     },
     "execution_count": 7,
     "metadata": {},
     "output_type": "execute_result"
    }
   ],
   "source": [
    "randint(0, 10, 5)"
   ]
  },
  {
   "cell_type": "code",
   "execution_count": 8,
   "id": "f3d493da",
   "metadata": {},
   "outputs": [],
   "source": [
    "dataBil = randint(0, 100, 20)"
   ]
  },
  {
   "cell_type": "code",
   "execution_count": 9,
   "id": "64a2614d",
   "metadata": {},
   "outputs": [
    {
     "name": "stdout",
     "output_type": "stream",
     "text": [
      "[48 82 15 59 47 95 80 41 68 20 29 10 51 51 16 81 36 50 89 20]\n"
     ]
    }
   ],
   "source": [
    "print(dataBil)"
   ]
  },
  {
   "cell_type": "code",
   "execution_count": 10,
   "id": "10145a21",
   "metadata": {},
   "outputs": [
    {
     "name": "stdout",
     "output_type": "stream",
     "text": [
      "[48 82 15 59 47 95 80 41 68 20 29 10 51 51 16 81 36 50 89 20]\n"
     ]
    }
   ],
   "source": [
    "print(dataBil)"
   ]
  },
  {
   "cell_type": "code",
   "execution_count": 11,
   "id": "4acf0ede",
   "metadata": {},
   "outputs": [
    {
     "data": {
      "text/plain": [
       "array([[48, 82, 15, 59, 47],\n",
       "       [95, 80, 41, 68, 20],\n",
       "       [29, 10, 51, 51, 16],\n",
       "       [81, 36, 50, 89, 20]])"
      ]
     },
     "execution_count": 11,
     "metadata": {},
     "output_type": "execute_result"
    }
   ],
   "source": [
    "dataBil.reshape(4, 5)"
   ]
  },
  {
   "cell_type": "code",
   "execution_count": 12,
   "id": "6dbaf5a4",
   "metadata": {},
   "outputs": [],
   "source": [
    "dataBil.sort()"
   ]
  },
  {
   "cell_type": "code",
   "execution_count": 13,
   "id": "92a81f0a",
   "metadata": {},
   "outputs": [
    {
     "data": {
      "text/plain": [
       "array([10, 15, 16, 20, 20, 29, 36, 41, 47, 48, 50, 51, 51, 59, 68, 80, 81,\n",
       "       82, 89, 95])"
      ]
     },
     "execution_count": 13,
     "metadata": {},
     "output_type": "execute_result"
    }
   ],
   "source": [
    "dataBil"
   ]
  },
  {
   "cell_type": "code",
   "execution_count": 14,
   "id": "d18b73d1",
   "metadata": {},
   "outputs": [
    {
     "data": {
      "text/plain": [
       "array([[10, 15, 16, 20, 20],\n",
       "       [29, 36, 41, 47, 48],\n",
       "       [50, 51, 51, 59, 68],\n",
       "       [80, 81, 82, 89, 95]])"
      ]
     },
     "execution_count": 14,
     "metadata": {},
     "output_type": "execute_result"
    }
   ],
   "source": [
    "dataBil.reshape(4, 5)"
   ]
  },
  {
   "cell_type": "code",
   "execution_count": 15,
   "id": "52b8b975",
   "metadata": {},
   "outputs": [
    {
     "data": {
      "text/plain": [
       "array([10, 15, 16, 20, 20, 29, 36, 41, 47, 48, 50, 51, 51, 59, 68, 80, 81,\n",
       "       82, 89, 95])"
      ]
     },
     "execution_count": 15,
     "metadata": {},
     "output_type": "execute_result"
    }
   ],
   "source": [
    "dataBil"
   ]
  },
  {
   "cell_type": "code",
   "execution_count": 16,
   "id": "68835094",
   "metadata": {},
   "outputs": [],
   "source": [
    "dataBil = dataBil.reshape(4, 5)"
   ]
  },
  {
   "cell_type": "code",
   "execution_count": 17,
   "id": "bdaf4a8e",
   "metadata": {},
   "outputs": [
    {
     "data": {
      "text/plain": [
       "array([[10, 15, 16, 20, 20],\n",
       "       [29, 36, 41, 47, 48],\n",
       "       [50, 51, 51, 59, 68],\n",
       "       [80, 81, 82, 89, 95]])"
      ]
     },
     "execution_count": 17,
     "metadata": {},
     "output_type": "execute_result"
    }
   ],
   "source": [
    "dataBil"
   ]
  },
  {
   "cell_type": "code",
   "execution_count": 18,
   "id": "49591fa0",
   "metadata": {},
   "outputs": [
    {
     "data": {
      "text/plain": [
       "95"
      ]
     },
     "execution_count": 18,
     "metadata": {},
     "output_type": "execute_result"
    }
   ],
   "source": [
    "dataBil.max()"
   ]
  },
  {
   "cell_type": "code",
   "execution_count": 19,
   "id": "0307be3b",
   "metadata": {},
   "outputs": [],
   "source": [
    "data2D = randint(0,10,10).reshape(2, 5)"
   ]
  },
  {
   "cell_type": "code",
   "execution_count": 20,
   "id": "a217bec6",
   "metadata": {},
   "outputs": [
    {
     "data": {
      "text/plain": [
       "array([[0, 3, 6, 6, 8],\n",
       "       [0, 9, 9, 9, 1]])"
      ]
     },
     "execution_count": 20,
     "metadata": {},
     "output_type": "execute_result"
    }
   ],
   "source": [
    "data2D"
   ]
  },
  {
   "cell_type": "code",
   "execution_count": 21,
   "id": "44088a48",
   "metadata": {},
   "outputs": [
    {
     "data": {
      "text/plain": [
       "9"
      ]
     },
     "execution_count": 21,
     "metadata": {},
     "output_type": "execute_result"
    }
   ],
   "source": [
    "data2D.max()"
   ]
  },
  {
   "cell_type": "code",
   "execution_count": 22,
   "id": "65f9468f",
   "metadata": {},
   "outputs": [
    {
     "data": {
      "text/plain": [
       "6"
      ]
     },
     "execution_count": 22,
     "metadata": {},
     "output_type": "execute_result"
    }
   ],
   "source": [
    "data2D.argmax()"
   ]
  },
  {
   "cell_type": "code",
   "execution_count": 23,
   "id": "bc1826a0",
   "metadata": {},
   "outputs": [
    {
     "data": {
      "text/plain": [
       "0"
      ]
     },
     "execution_count": 23,
     "metadata": {},
     "output_type": "execute_result"
    }
   ],
   "source": [
    "data2D.argmin()"
   ]
  },
  {
   "cell_type": "code",
   "execution_count": 24,
   "id": "ed68023e",
   "metadata": {},
   "outputs": [
    {
     "data": {
      "text/plain": [
       "(2, 5)"
      ]
     },
     "execution_count": 24,
     "metadata": {},
     "output_type": "execute_result"
    }
   ],
   "source": [
    "data2D.shape"
   ]
  },
  {
   "cell_type": "code",
   "execution_count": 25,
   "id": "24fca206",
   "metadata": {},
   "outputs": [
    {
     "data": {
      "text/plain": [
       "dtype('int32')"
      ]
     },
     "execution_count": 25,
     "metadata": {},
     "output_type": "execute_result"
    }
   ],
   "source": [
    "data2D.dtype"
   ]
  },
  {
   "cell_type": "markdown",
   "id": "b14e47b7",
   "metadata": {},
   "source": [
    "# Indexing di NumPy"
   ]
  },
  {
   "cell_type": "code",
   "execution_count": 26,
   "id": "657656d1",
   "metadata": {},
   "outputs": [],
   "source": [
    "import numpy as np"
   ]
  },
  {
   "cell_type": "code",
   "execution_count": 27,
   "id": "4c8ab23c",
   "metadata": {},
   "outputs": [],
   "source": [
    "coba = np.arange(0, 11)"
   ]
  },
  {
   "cell_type": "code",
   "execution_count": 28,
   "id": "306419d5",
   "metadata": {},
   "outputs": [
    {
     "data": {
      "text/plain": [
       "array([ 0,  1,  2,  3,  4,  5,  6,  7,  8,  9, 10])"
      ]
     },
     "execution_count": 28,
     "metadata": {},
     "output_type": "execute_result"
    }
   ],
   "source": [
    "coba"
   ]
  },
  {
   "cell_type": "code",
   "execution_count": 29,
   "id": "fcb96bdf",
   "metadata": {},
   "outputs": [
    {
     "data": {
      "text/plain": [
       "array([ 5,  6,  7,  8,  9, 10])"
      ]
     },
     "execution_count": 29,
     "metadata": {},
     "output_type": "execute_result"
    }
   ],
   "source": [
    "coba[5:]"
   ]
  },
  {
   "cell_type": "code",
   "execution_count": 30,
   "id": "f8f3ff3b",
   "metadata": {},
   "outputs": [
    {
     "data": {
      "text/plain": [
       "array([5, 6, 7, 8])"
      ]
     },
     "execution_count": 30,
     "metadata": {},
     "output_type": "execute_result"
    }
   ],
   "source": [
    "coba[5:9]"
   ]
  },
  {
   "cell_type": "code",
   "execution_count": 31,
   "id": "ed530c0a",
   "metadata": {},
   "outputs": [
    {
     "data": {
      "text/plain": [
       "array([0, 1, 2, 3, 4, 5])"
      ]
     },
     "execution_count": 31,
     "metadata": {},
     "output_type": "execute_result"
    }
   ],
   "source": [
    "coba[:6]"
   ]
  },
  {
   "cell_type": "code",
   "execution_count": 32,
   "id": "a4d88eb9",
   "metadata": {},
   "outputs": [
    {
     "data": {
      "text/plain": [
       "array([ 5,  6,  7,  8,  9, 10])"
      ]
     },
     "execution_count": 32,
     "metadata": {},
     "output_type": "execute_result"
    }
   ],
   "source": [
    "coba3 = coba[5:]\n",
    "coba3"
   ]
  },
  {
   "cell_type": "code",
   "execution_count": 33,
   "id": "36a208fd",
   "metadata": {},
   "outputs": [
    {
     "data": {
      "text/plain": [
       "array([ 5,  6, 99, 99, 99, 99])"
      ]
     },
     "execution_count": 33,
     "metadata": {},
     "output_type": "execute_result"
    }
   ],
   "source": [
    "coba3[2:] = 99\n",
    "coba3"
   ]
  },
  {
   "cell_type": "code",
   "execution_count": 34,
   "id": "9b0fb0f7",
   "metadata": {},
   "outputs": [
    {
     "data": {
      "text/plain": [
       "array([ 0,  1,  2,  3,  4,  5,  6, 99, 99, 99, 99])"
      ]
     },
     "execution_count": 34,
     "metadata": {},
     "output_type": "execute_result"
    }
   ],
   "source": [
    "coba"
   ]
  },
  {
   "cell_type": "code",
   "execution_count": 35,
   "id": "4b3cbd19",
   "metadata": {},
   "outputs": [
    {
     "data": {
      "text/plain": [
       "array([ 5,  6, 99, 99, 99, 99])"
      ]
     },
     "execution_count": 35,
     "metadata": {},
     "output_type": "execute_result"
    }
   ],
   "source": [
    "coba3"
   ]
  },
  {
   "cell_type": "markdown",
   "id": "da358c35",
   "metadata": {},
   "source": [
    "### Keunian NumPy\n",
    "\n",
    "Variable Coba2 tidak berdiri sendiri, namun seperti cerminan dari variable coba. Jadi, jika kita melakukan sesuatu di coba2 maka variable coba akan terdampak. Namun, ada solusi supaya tidak seperti ini"
   ]
  },
  {
   "cell_type": "code",
   "execution_count": 36,
   "id": "713ff56c",
   "metadata": {},
   "outputs": [],
   "source": [
    "coba2 = coba.copy()"
   ]
  },
  {
   "cell_type": "code",
   "execution_count": 37,
   "id": "44d923a9",
   "metadata": {},
   "outputs": [
    {
     "data": {
      "text/plain": [
       "array([ 0,  1,  2,  3,  4,  5,  6, 99, 99, 99, 99])"
      ]
     },
     "execution_count": 37,
     "metadata": {},
     "output_type": "execute_result"
    }
   ],
   "source": [
    "coba2"
   ]
  },
  {
   "cell_type": "code",
   "execution_count": 38,
   "id": "258f5d8a",
   "metadata": {},
   "outputs": [],
   "source": [
    "coba2[0:] = 100"
   ]
  },
  {
   "cell_type": "code",
   "execution_count": 39,
   "id": "5a5f1a7c",
   "metadata": {},
   "outputs": [
    {
     "data": {
      "text/plain": [
       "array([100, 100, 100, 100, 100, 100, 100, 100, 100, 100, 100])"
      ]
     },
     "execution_count": 39,
     "metadata": {},
     "output_type": "execute_result"
    }
   ],
   "source": [
    "coba2"
   ]
  },
  {
   "cell_type": "code",
   "execution_count": 40,
   "id": "6f385cbd",
   "metadata": {},
   "outputs": [
    {
     "data": {
      "text/plain": [
       "array([ 0,  1,  2,  3,  4,  5,  6, 99, 99, 99, 99])"
      ]
     },
     "execution_count": 40,
     "metadata": {},
     "output_type": "execute_result"
    }
   ],
   "source": [
    "coba"
   ]
  },
  {
   "cell_type": "code",
   "execution_count": 41,
   "id": "3d35b6c5",
   "metadata": {},
   "outputs": [
    {
     "data": {
      "text/plain": [
       "array([[1, 2, 3],\n",
       "       [4, 5, 6],\n",
       "       [7, 8, 9]])"
      ]
     },
     "execution_count": 41,
     "metadata": {},
     "output_type": "execute_result"
    }
   ],
   "source": [
    "bil2D = np.array(\n",
    "    [[1, 2, 3],\n",
    "    [4, 5, 6],\n",
    "    [7, 8, 9]]\n",
    ")\n",
    "\n",
    "bil2D"
   ]
  },
  {
   "cell_type": "code",
   "execution_count": 42,
   "id": "6a4345d4",
   "metadata": {},
   "outputs": [
    {
     "data": {
      "text/plain": [
       "array([1, 2, 3])"
      ]
     },
     "execution_count": 42,
     "metadata": {},
     "output_type": "execute_result"
    }
   ],
   "source": [
    "bil2D[0]"
   ]
  },
  {
   "cell_type": "code",
   "execution_count": 43,
   "id": "2b5294f7",
   "metadata": {},
   "outputs": [
    {
     "data": {
      "text/plain": [
       "2"
      ]
     },
     "execution_count": 43,
     "metadata": {},
     "output_type": "execute_result"
    }
   ],
   "source": [
    "bil2D[0][1]"
   ]
  },
  {
   "cell_type": "markdown",
   "id": "3aaadb51",
   "metadata": {},
   "source": [
    "### Penulisan di atas kurang \"Pythonic\"\n",
    "\n",
    "Alih-alih menggunakan bil2D[n][m], kita bisa menggunakan bil2D[n, m]"
   ]
  },
  {
   "cell_type": "code",
   "execution_count": 44,
   "id": "cc8e57c1",
   "metadata": {},
   "outputs": [
    {
     "data": {
      "text/plain": [
       "9"
      ]
     },
     "execution_count": 44,
     "metadata": {},
     "output_type": "execute_result"
    }
   ],
   "source": [
    "bil2D[2,2]"
   ]
  },
  {
   "cell_type": "code",
   "execution_count": 45,
   "id": "c4041307",
   "metadata": {},
   "outputs": [
    {
     "data": {
      "text/plain": [
       "2"
      ]
     },
     "execution_count": 45,
     "metadata": {},
     "output_type": "execute_result"
    }
   ],
   "source": [
    "bil2D[0, 1]"
   ]
  },
  {
   "cell_type": "code",
   "execution_count": 46,
   "id": "884c59d7",
   "metadata": {},
   "outputs": [
    {
     "data": {
      "text/plain": [
       "array([5, 6])"
      ]
     },
     "execution_count": 46,
     "metadata": {},
     "output_type": "execute_result"
    }
   ],
   "source": [
    "bil2D[1,1:]"
   ]
  },
  {
   "cell_type": "markdown",
   "id": "3fdea4f2",
   "metadata": {},
   "source": [
    "## Slicing dengan Boolean di NumPy"
   ]
  },
  {
   "cell_type": "code",
   "execution_count": 47,
   "id": "7287ea02",
   "metadata": {},
   "outputs": [],
   "source": [
    "bilBaru = np.arange(0, 11)"
   ]
  },
  {
   "cell_type": "code",
   "execution_count": 48,
   "id": "233d5ddf",
   "metadata": {},
   "outputs": [
    {
     "data": {
      "text/plain": [
       "array([ 0,  1,  2,  3,  4,  5,  6,  7,  8,  9, 10])"
      ]
     },
     "execution_count": 48,
     "metadata": {},
     "output_type": "execute_result"
    }
   ],
   "source": [
    "bilBaru"
   ]
  },
  {
   "cell_type": "code",
   "execution_count": 49,
   "id": "614375fa",
   "metadata": {},
   "outputs": [],
   "source": [
    "angkaT = bilBaru > 5"
   ]
  },
  {
   "cell_type": "code",
   "execution_count": 50,
   "id": "49052a31",
   "metadata": {},
   "outputs": [
    {
     "data": {
      "text/plain": [
       "array([False, False, False, False, False, False,  True,  True,  True,\n",
       "        True,  True])"
      ]
     },
     "execution_count": 50,
     "metadata": {},
     "output_type": "execute_result"
    }
   ],
   "source": [
    "angkaT"
   ]
  },
  {
   "cell_type": "code",
   "execution_count": 51,
   "id": "57fdd051",
   "metadata": {},
   "outputs": [],
   "source": [
    "bilNew = bilBaru[angkaT]"
   ]
  },
  {
   "cell_type": "code",
   "execution_count": 52,
   "id": "770b6844",
   "metadata": {},
   "outputs": [
    {
     "name": "stdout",
     "output_type": "stream",
     "text": [
      "[ 6  7  8  9 10]\n"
     ]
    }
   ],
   "source": [
    "print(bilNew)"
   ]
  },
  {
   "cell_type": "code",
   "execution_count": 53,
   "id": "d5a18881",
   "metadata": {},
   "outputs": [],
   "source": [
    "bilBaru = bilBaru[bilBaru % 2 == 0]"
   ]
  },
  {
   "cell_type": "code",
   "execution_count": 54,
   "id": "6c1abda6",
   "metadata": {},
   "outputs": [
    {
     "data": {
      "text/plain": [
       "array([ 0,  2,  4,  6,  8, 10])"
      ]
     },
     "execution_count": 54,
     "metadata": {},
     "output_type": "execute_result"
    }
   ],
   "source": [
    "bilBaru"
   ]
  }
 ],
 "metadata": {
  "kernelspec": {
   "display_name": "Python 3 (ipykernel)",
   "language": "python",
   "name": "python3"
  },
  "language_info": {
   "codemirror_mode": {
    "name": "ipython",
    "version": 3
   },
   "file_extension": ".py",
   "mimetype": "text/x-python",
   "name": "python",
   "nbconvert_exporter": "python",
   "pygments_lexer": "ipython3",
   "version": "3.9.2"
  }
 },
 "nbformat": 4,
 "nbformat_minor": 5
}
