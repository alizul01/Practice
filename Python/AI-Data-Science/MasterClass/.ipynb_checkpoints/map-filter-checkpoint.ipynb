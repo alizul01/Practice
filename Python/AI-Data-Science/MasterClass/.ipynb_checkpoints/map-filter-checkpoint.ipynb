{
 "cells": [
  {
   "cell_type": "markdown",
   "id": "db5b9f7c",
   "metadata": {},
   "source": [
    "# Belajar Map, Filter, dan Lambda Lebih Lanjut"
   ]
  },
  {
   "cell_type": "code",
   "execution_count": 2,
   "id": "6a72e77e",
   "metadata": {},
   "outputs": [],
   "source": [
    "def kali3(num):\n",
    "    return num * 3"
   ]
  },
  {
   "cell_type": "code",
   "execution_count": 3,
   "id": "fac4c200",
   "metadata": {},
   "outputs": [],
   "source": [
    "listNum = [2, 4, 8, 10]"
   ]
  },
  {
   "cell_type": "code",
   "execution_count": 8,
   "id": "b2ac9180",
   "metadata": {},
   "outputs": [
    {
     "name": "stdout",
     "output_type": "stream",
     "text": [
      "6\n",
      "12\n",
      "24\n",
      "30\n"
     ]
    }
   ],
   "source": [
    "for item in map(kali3, listNum):\n",
    "    print(item)"
   ]
  },
  {
   "cell_type": "code",
   "execution_count": 6,
   "id": "1fe2ce1f",
   "metadata": {},
   "outputs": [],
   "source": [
    "hasil = list(map(kali3, listNum))"
   ]
  },
  {
   "cell_type": "code",
   "execution_count": 7,
   "id": "0eaa5dfe",
   "metadata": {},
   "outputs": [
    {
     "data": {
      "text/plain": [
       "[6, 12, 24, 30]"
      ]
     },
     "execution_count": 7,
     "metadata": {},
     "output_type": "execute_result"
    }
   ],
   "source": [
    "hasil"
   ]
  },
  {
   "cell_type": "code",
   "execution_count": 9,
   "id": "085a8545",
   "metadata": {},
   "outputs": [],
   "source": [
    "def jumlahKata(kata):\n",
    "    if len(kata) % 2 == 0:\n",
    "        return \"Genap\"\n",
    "    else:\n",
    "        return \"Ganjil\"\n"
   ]
  },
  {
   "cell_type": "code",
   "execution_count": 10,
   "id": "8981bf05",
   "metadata": {},
   "outputs": [
    {
     "data": {
      "text/plain": [
       "'Genap'"
      ]
     },
     "execution_count": 10,
     "metadata": {},
     "output_type": "execute_result"
    }
   ],
   "source": [
    "jumlahKata(\"aksjhladjskadjsakldj\")"
   ]
  },
  {
   "cell_type": "code",
   "execution_count": 11,
   "id": "f668adab",
   "metadata": {},
   "outputs": [],
   "source": [
    "listKata = [\"asdjasd\", \"lasdhklj\", \"alkdsj\"]"
   ]
  },
  {
   "cell_type": "code",
   "execution_count": 13,
   "id": "75d931e1",
   "metadata": {},
   "outputs": [
    {
     "data": {
      "text/plain": [
       "['Ganjil', 'Genap', 'Genap']"
      ]
     },
     "execution_count": 13,
     "metadata": {},
     "output_type": "execute_result"
    }
   ],
   "source": [
    "list(map(jumlahKata, listKata))"
   ]
  },
  {
   "cell_type": "code",
   "execution_count": 14,
   "id": "872c450d",
   "metadata": {},
   "outputs": [],
   "source": [
    "def isGenap(num):\n",
    "    return num % 2 == 0"
   ]
  },
  {
   "cell_type": "code",
   "execution_count": 16,
   "id": "35647eee",
   "metadata": {},
   "outputs": [
    {
     "data": {
      "text/plain": [
       "True"
      ]
     },
     "execution_count": 16,
     "metadata": {},
     "output_type": "execute_result"
    }
   ],
   "source": [
    "isGenap(20)"
   ]
  },
  {
   "cell_type": "code",
   "execution_count": 17,
   "id": "5e500cb4",
   "metadata": {},
   "outputs": [],
   "source": [
    "nomor = [2,5,1,3,6,8,4,7,4,32,2]"
   ]
  },
  {
   "cell_type": "code",
   "execution_count": 18,
   "id": "ed913924",
   "metadata": {},
   "outputs": [
    {
     "data": {
      "text/plain": [
       "[2, 6, 8, 4, 4, 32, 2]"
      ]
     },
     "execution_count": 18,
     "metadata": {},
     "output_type": "execute_result"
    }
   ],
   "source": [
    "list(filter(isGenap, nomor))"
   ]
  },
  {
   "cell_type": "code",
   "execution_count": 19,
   "id": "92353685",
   "metadata": {},
   "outputs": [
    {
     "name": "stdout",
     "output_type": "stream",
     "text": [
      "2\n",
      "6\n",
      "8\n",
      "4\n",
      "4\n",
      "32\n",
      "2\n"
     ]
    }
   ],
   "source": [
    "for item in filter(isGenap, nomor):\n",
    "    print(item)"
   ]
  },
  {
   "cell_type": "markdown",
   "id": "33bb66d4",
   "metadata": {},
   "source": [
    "### Kegunaan dari filter( )\n",
    "\n",
    "Untuk melakukan filter suatu data dan mengabaikan yang tidak diinginkan"
   ]
  },
  {
   "cell_type": "markdown",
   "id": "f9c561ce",
   "metadata": {},
   "source": [
    "# Mendalami Lambda Function"
   ]
  },
  {
   "cell_type": "code",
   "execution_count": 22,
   "id": "9ee19d01",
   "metadata": {},
   "outputs": [],
   "source": [
    "kali10 = lambda num : num * 10"
   ]
  },
  {
   "cell_type": "code",
   "execution_count": 23,
   "id": "3b49c96a",
   "metadata": {},
   "outputs": [
    {
     "data": {
      "text/plain": [
       "100"
      ]
     },
     "execution_count": 23,
     "metadata": {},
     "output_type": "execute_result"
    }
   ],
   "source": [
    "kali10(10)"
   ]
  },
  {
   "cell_type": "code",
   "execution_count": 26,
   "id": "f30b83dd",
   "metadata": {},
   "outputs": [],
   "source": [
    "genap = list(filter(isGenap, nomor))"
   ]
  },
  {
   "cell_type": "code",
   "execution_count": 27,
   "id": "e76f5076",
   "metadata": {},
   "outputs": [
    {
     "data": {
      "text/plain": [
       "[2, 6, 8, 4, 4, 32, 2]"
      ]
     },
     "execution_count": 27,
     "metadata": {},
     "output_type": "execute_result"
    }
   ],
   "source": [
    "genap"
   ]
  }
 ],
 "metadata": {
  "kernelspec": {
   "display_name": "Python 3 (ipykernel)",
   "language": "python",
   "name": "python3"
  },
  "language_info": {
   "codemirror_mode": {
    "name": "ipython",
    "version": 3
   },
   "file_extension": ".py",
   "mimetype": "text/x-python",
   "name": "python",
   "nbconvert_exporter": "python",
   "pygments_lexer": "ipython3",
   "version": "3.9.2"
  }
 },
 "nbformat": 4,
 "nbformat_minor": 5
}
