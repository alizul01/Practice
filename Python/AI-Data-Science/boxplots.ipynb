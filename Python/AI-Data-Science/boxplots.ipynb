{
 "cells": [
  {
   "cell_type": "code",
   "execution_count": 3,
   "metadata": {},
   "outputs": [],
   "source": [
    "# Import relevant libraries\n",
    "import numpy as np\n",
    "import matplotlib.pyplot as plt\n",
    "import seaborn as sns"
   ]
  },
  {
   "cell_type": "code",
   "execution_count": 7,
   "metadata": {},
   "outputs": [
    {
     "data": {
      "text/plain": [
       "<AxesSubplot:>"
      ]
     },
     "execution_count": 7,
     "metadata": {},
     "output_type": "execute_result"
    },
    {
     "data": {
      "image/png": "[encoded data removed]",
      "text/plain": [
       "<Figure size 432x288 with 1 Axes>"
      ]
     },
     "metadata": {
      "needs_background": "light"
     },
     "output_type": "display_data"
    }
   ],
   "source": [
    "# Simple data set for boxplot analysis\n",
    "data = np.array([1, 1, 4, 4, 5, 8, 9, 10, 10, 12, 20])\n",
    "\n",
    "# Configure the width of x-axis for bosplot\n",
    "plt.xticks(np.arange(0, 25, 2))\n",
    "plt.xlim(0, 25)\n",
    "\n",
    "# Generate boxplot based on the data\n",
    "sns.boxplot(x = data)"
   ]
  },
  {
   "cell_type": "code",
   "execution_count": null,
   "metadata": {},
   "outputs": [],
   "source": [
    "tips = sns.load_dataset('tips')\n",
    "ax = sns.boxplot(x = \"tip\", data = tips)"
   ]
  }
 ],
 "metadata": {
  "interpreter": {
   "hash": "d0d51e18e8a4e0ee8795b8f094108eb0ecd2a880ce57a0f757bd5a4668070013"
  },
  "kernelspec": {
   "display_name": "Python 3.9.2 64-bit",
   "language": "python",
   "name": "python3"
  },
  "language_info": {
   "codemirror_mode": {
    "name": "ipython",
    "version": 3
   },
   "file_extension": ".py",
   "mimetype": "text/x-python",
   "name": "python",
   "nbconvert_exporter": "python",
   "pygments_lexer": "ipython3",
   "version": "3.9.2"
  },
  "orig_nbformat": 4
 },
 "nbformat": 4,
 "nbformat_minor": 2
}
